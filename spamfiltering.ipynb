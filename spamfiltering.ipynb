{
  "nbformat": 4,
  "nbformat_minor": 0,
  "metadata": {
    "colab": {
      "name": "spamfiltering.ipynb",
      "provenance": [],
      "authorship_tag": "ABX9TyNhf2fztWh7b2/LEs+nroYO",
      "include_colab_link": true
    },
    "kernelspec": {
      "name": "python3",
      "display_name": "Python 3"
    },
    "language_info": {
      "name": "python"
    }
  },
  "cells": [
    {
      "cell_type": "markdown",
      "metadata": {
        "id": "view-in-github",
        "colab_type": "text"
      },
      "source": [
        "<a href=\"https://colab.research.google.com/github/krisnas/NLP_MM1/blob/main/spamfiltering.ipynb\" target=\"_parent\"><img src=\"https://colab.research.google.com/assets/colab-badge.svg\" alt=\"Open In Colab\"/></a>"
      ]
    },
    {
      "cell_type": "code",
      "metadata": {
        "id": "egurYjaaYEF7"
      },
      "source": [
        "#set konfigurasi googledrive\n",
        "from google.colab import drive"
      ],
      "execution_count": 51,
      "outputs": []
    },
    {
      "cell_type": "code",
      "metadata": {
        "colab": {
          "base_uri": "https://localhost:8080/"
        },
        "id": "he9s5g32YIpp",
        "outputId": "e57065ef-4d27-4f31-e8d3-c4750fdbae1d"
      },
      "source": [
        "drive.mount('/content/drive')\n",
        "file_url = '/content/drive/My Drive/NLP/spamm.txt'"
      ],
      "execution_count": 52,
      "outputs": [
        {
          "output_type": "stream",
          "text": [
            "Drive already mounted at /content/drive; to attempt to forcibly remount, call drive.mount(\"/content/drive\", force_remount=True).\n"
          ],
          "name": "stdout"
        }
      ]
    },
    {
      "cell_type": "code",
      "metadata": {
        "id": "FvWG-dKyYSy_",
        "colab": {
          "base_uri": "https://localhost:8080/",
          "height": 499
        },
        "outputId": "979f786d-d4b3-4256-90fd-0de39c36b439"
      },
      "source": [
        "import pandas as pd\n",
        "data = pd.read_csv(file_url, sep = '\\t', header=None, names=[\"label\", \"sms\"])\n",
        "data.head(15)"
      ],
      "execution_count": 54,
      "outputs": [
        {
          "output_type": "execute_result",
          "data": {
            "text/html": [
              "<div>\n",
              "<style scoped>\n",
              "    .dataframe tbody tr th:only-of-type {\n",
              "        vertical-align: middle;\n",
              "    }\n",
              "\n",
              "    .dataframe tbody tr th {\n",
              "        vertical-align: top;\n",
              "    }\n",
              "\n",
              "    .dataframe thead th {\n",
              "        text-align: right;\n",
              "    }\n",
              "</style>\n",
              "<table border=\"1\" class=\"dataframe\">\n",
              "  <thead>\n",
              "    <tr style=\"text-align: right;\">\n",
              "      <th></th>\n",
              "      <th>label</th>\n",
              "      <th>sms</th>\n",
              "    </tr>\n",
              "  </thead>\n",
              "  <tbody>\n",
              "    <tr>\n",
              "      <th>0</th>\n",
              "      <td>ham</td>\n",
              "      <td>Go until jurong point, crazy.. Available only ...</td>\n",
              "    </tr>\n",
              "    <tr>\n",
              "      <th>1</th>\n",
              "      <td>ham</td>\n",
              "      <td>Ok lar... Joking wif u oni...</td>\n",
              "    </tr>\n",
              "    <tr>\n",
              "      <th>2</th>\n",
              "      <td>spam</td>\n",
              "      <td>Free entry in 2 a wkly comp to win FA Cup fina...</td>\n",
              "    </tr>\n",
              "    <tr>\n",
              "      <th>3</th>\n",
              "      <td>ham</td>\n",
              "      <td>U dun say so early hor... U c already then say...</td>\n",
              "    </tr>\n",
              "    <tr>\n",
              "      <th>4</th>\n",
              "      <td>ham</td>\n",
              "      <td>Nah I don't think he goes to usf, he lives aro...</td>\n",
              "    </tr>\n",
              "    <tr>\n",
              "      <th>5</th>\n",
              "      <td>spam</td>\n",
              "      <td>FreeMsg Hey there darling it's been 3 week's n...</td>\n",
              "    </tr>\n",
              "    <tr>\n",
              "      <th>6</th>\n",
              "      <td>ham</td>\n",
              "      <td>Even my brother is not like to speak with me. ...</td>\n",
              "    </tr>\n",
              "    <tr>\n",
              "      <th>7</th>\n",
              "      <td>ham</td>\n",
              "      <td>As per your request 'Melle Melle (Oru Minnamin...</td>\n",
              "    </tr>\n",
              "    <tr>\n",
              "      <th>8</th>\n",
              "      <td>spam</td>\n",
              "      <td>WINNER!! As a valued network customer you have...</td>\n",
              "    </tr>\n",
              "    <tr>\n",
              "      <th>9</th>\n",
              "      <td>spam</td>\n",
              "      <td>Had your mobile 11 months or more? U R entitle...</td>\n",
              "    </tr>\n",
              "    <tr>\n",
              "      <th>10</th>\n",
              "      <td>ham</td>\n",
              "      <td>I'm gonna be home soon and i don't want to tal...</td>\n",
              "    </tr>\n",
              "    <tr>\n",
              "      <th>11</th>\n",
              "      <td>spam</td>\n",
              "      <td>SIX chances to win CASH! From 100 to 20,000 po...</td>\n",
              "    </tr>\n",
              "    <tr>\n",
              "      <th>12</th>\n",
              "      <td>spam</td>\n",
              "      <td>URGENT! You have won a 1 week FREE membership ...</td>\n",
              "    </tr>\n",
              "    <tr>\n",
              "      <th>13</th>\n",
              "      <td>ham</td>\n",
              "      <td>I've been searching for the right words to tha...</td>\n",
              "    </tr>\n",
              "    <tr>\n",
              "      <th>14</th>\n",
              "      <td>ham</td>\n",
              "      <td>I HAVE A DATE ON SUNDAY WITH WILL!!</td>\n",
              "    </tr>\n",
              "  </tbody>\n",
              "</table>\n",
              "</div>"
            ],
            "text/plain": [
              "   label                                                sms\n",
              "0    ham  Go until jurong point, crazy.. Available only ...\n",
              "1    ham                      Ok lar... Joking wif u oni...\n",
              "2   spam  Free entry in 2 a wkly comp to win FA Cup fina...\n",
              "3    ham  U dun say so early hor... U c already then say...\n",
              "4    ham  Nah I don't think he goes to usf, he lives aro...\n",
              "5   spam  FreeMsg Hey there darling it's been 3 week's n...\n",
              "6    ham  Even my brother is not like to speak with me. ...\n",
              "7    ham  As per your request 'Melle Melle (Oru Minnamin...\n",
              "8   spam  WINNER!! As a valued network customer you have...\n",
              "9   spam  Had your mobile 11 months or more? U R entitle...\n",
              "10   ham  I'm gonna be home soon and i don't want to tal...\n",
              "11  spam  SIX chances to win CASH! From 100 to 20,000 po...\n",
              "12  spam  URGENT! You have won a 1 week FREE membership ...\n",
              "13   ham  I've been searching for the right words to tha...\n",
              "14   ham                I HAVE A DATE ON SUNDAY WITH WILL!!"
            ]
          },
          "metadata": {
            "tags": []
          },
          "execution_count": 54
        }
      ]
    },
    {
      "cell_type": "code",
      "metadata": {
        "id": "EJmrWGrLYVFw",
        "colab": {
          "base_uri": "https://localhost:8080/"
        },
        "outputId": "d73bd471-195a-42a2-e3dd-6b063fcae3df"
      },
      "source": [
        "#PraProses\n",
        "import string\n",
        "import nltk\n",
        "nltk.download('stopwords')\n",
        "nltk.download('punkt')\n",
        "\n",
        "stopwords = nltk.corpus.stopwords.words('english')\n",
        "punctuation = string.punctuation\n",
        "\n",
        "print(stopwords[:5])\n",
        "print(punctuation)"
      ],
      "execution_count": 55,
      "outputs": [
        {
          "output_type": "stream",
          "text": [
            "[nltk_data] Downloading package stopwords to /root/nltk_data...\n",
            "[nltk_data]   Package stopwords is already up-to-date!\n",
            "[nltk_data] Downloading package punkt to /root/nltk_data...\n",
            "[nltk_data]   Package punkt is already up-to-date!\n",
            "['i', 'me', 'my', 'myself', 'we']\n",
            "!\"#$%&'()*+,-./:;<=>?@[\\]^_`{|}~\n"
          ],
          "name": "stdout"
        }
      ]
    },
    {
      "cell_type": "code",
      "metadata": {
        "id": "_1pExa9QYYFi"
      },
      "source": [
        "def pre_process(sms):\n",
        "  remove_punct = \"\".join([word.lower() for word in sms if word not in punctuation])\n",
        "  tokenize = nltk.tokenize.word_tokenize(remove_punct)\n",
        "  remove_stopwords = [word for word in tokenize if word not in stopwords]\n",
        "  return remove_stopwords"
      ],
      "execution_count": 56,
      "outputs": []
    },
    {
      "cell_type": "code",
      "metadata": {
        "colab": {
          "base_uri": "https://localhost:8080/"
        },
        "id": "0mIM-8NjfekF",
        "outputId": "e82a05e7-6488-4e26-8aee-4d1b513ac2a5"
      },
      "source": [
        "#menambahkan kolom ke data kami dengan pesan yang kami proses\n",
        "data['processed'] = data['sms'].apply(lambda x: pre_process(x))\n",
        "\n",
        "print(data['processed'].head())"
      ],
      "execution_count": 57,
      "outputs": [
        {
          "output_type": "stream",
          "text": [
            "0    [go, jurong, point, crazy, available, bugis, n...\n",
            "1                       [ok, lar, joking, wif, u, oni]\n",
            "2    [free, entry, 2, wkly, comp, win, fa, cup, fin...\n",
            "3        [u, dun, say, early, hor, u, c, already, say]\n",
            "4    [nah, dont, think, goes, usf, lives, around, t...\n",
            "Name: processed, dtype: object\n"
          ],
          "name": "stdout"
        }
      ]
    },
    {
      "cell_type": "code",
      "metadata": {
        "colab": {
          "base_uri": "https://localhost:8080/"
        },
        "id": "Jk703MqsgC47",
        "outputId": "aa4fe6ea-a8cc-4a59-d710-032be35bc4f4"
      },
      "source": [
        "def categorize_words():\n",
        "  spam_words = []\n",
        "  ham_words = []\n",
        "  for sms in data['processed'][data['label'] == 'ham']:\n",
        "    for word in sms:\n",
        "      ham_words.append(word)\n",
        "  for sms in data['processed'][data['label'] == 'spam']:\n",
        "    for word in sms:\n",
        "      spam_words.append(word)\n",
        "  return spam_words, ham_words\n",
        "\n",
        "spam_words, ham_words = categorize_words()\n",
        "\n",
        "print(spam_words[:5])\n",
        "print(ham_words[:5])"
      ],
      "execution_count": 58,
      "outputs": [
        {
          "output_type": "stream",
          "text": [
            "['free', 'entry', '2', 'wkly', 'comp']\n",
            "['go', 'jurong', 'point', 'crazy', 'available']\n"
          ],
          "name": "stdout"
        }
      ]
    },
    {
      "cell_type": "code",
      "metadata": {
        "id": "3RgFO2xHjA46"
      },
      "source": [
        "def predict(sms):\n",
        "  ham_counter = 0\n",
        "  spam_counter = 0\n",
        "\n",
        "  for word in sms:\n",
        "    ham_counter  += ham_words.count(word)\n",
        "    spam_counter += spam_words.count(word)\n",
        "    print('Hasilnya')\n",
        "    if spam_counter < ham_counter:\n",
        "      accuracy = round ((ham_counter / (spam_counter+ham_counter)*100))\n",
        "      print('SMS tidak mengandung SPAM, Presentasinya {}%'.format(accuracy))\n",
        "    elif spam_counter == ham_counter:\n",
        "      print('SMS ini adalah SPAM')\n",
        "    else:\n",
        "      accuracy = round((spam_counter / (spam_counter+ham_counter)*100))\n",
        "      print('SMS ini SPAM, Presentasinya {}%'.format(accuracy))"
      ],
      "execution_count": 59,
      "outputs": []
    },
    {
      "cell_type": "code",
      "metadata": {
        "colab": {
          "base_uri": "https://localhost:8080/"
        },
        "id": "DQSPvnLSlPqj",
        "outputId": "7b83f3cb-f808-4da9-e3d1-6b2aa1e65ed9"
      },
      "source": [
        "inputkan = input(\"Input spam atau ham :\\n\")"
      ],
      "execution_count": 60,
      "outputs": [
        {
          "output_type": "stream",
          "text": [
            "Input spam atau ham :\n",
            "Hi there !!, What's Up\n"
          ],
          "name": "stdout"
        }
      ]
    },
    {
      "cell_type": "code",
      "metadata": {
        "colab": {
          "base_uri": "https://localhost:8080/"
        },
        "id": "yq9oKqTHloFU",
        "outputId": "912ec5ca-6a2b-408d-da73-b573bd02122b"
      },
      "source": [
        "processed_input = pre_process(inputkan)\n",
        "predict(processed_input)"
      ],
      "execution_count": 61,
      "outputs": [
        {
          "output_type": "stream",
          "text": [
            "Hasilnya\n",
            "SMS tidak mengandung SPAM, Presentasinya 88%\n",
            "Hasilnya\n",
            "SMS tidak mengandung SPAM, Presentasinya 90%\n"
          ],
          "name": "stdout"
        }
      ]
    }
  ]
}